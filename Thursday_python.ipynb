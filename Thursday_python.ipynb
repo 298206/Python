{
 "cells": [
  {
   "cell_type": "markdown",
   "metadata": {},
   "source": [
    "### Nested Functions:--"
   ]
  },
  {
   "cell_type": "code",
   "execution_count": 2,
   "metadata": {},
   "outputs": [
    {
     "name": "stdout",
     "output_type": "stream",
     "text": [
      "inside fun1\n"
     ]
    }
   ],
   "source": [
    "def fun1():\n",
    "    def fun2():\n",
    "        print(\"inside fun2\")\n",
    "    print(\"inside fun1\")\n",
    "fun1()"
   ]
  },
  {
   "cell_type": "code",
   "execution_count": 3,
   "metadata": {},
   "outputs": [
    {
     "ename": "NameError",
     "evalue": "name 'fun2' is not defined",
     "output_type": "error",
     "traceback": [
      "\u001b[1;31m---------------------------------------------------------------------------\u001b[0m",
      "\u001b[1;31mNameError\u001b[0m                                 Traceback (most recent call last)",
      "\u001b[1;32m<ipython-input-3-a7e4d4b4ceec>\u001b[0m in \u001b[0;36m<module>\u001b[1;34m\u001b[0m\n\u001b[1;32m----> 1\u001b[1;33m \u001b[0mfun2\u001b[0m\u001b[1;33m(\u001b[0m\u001b[1;33m)\u001b[0m\u001b[1;33m\u001b[0m\u001b[1;33m\u001b[0m\u001b[0m\n\u001b[0m",
      "\u001b[1;31mNameError\u001b[0m: name 'fun2' is not defined"
     ]
    }
   ],
   "source": [
    "fun2()"
   ]
  },
  {
   "cell_type": "code",
   "execution_count": 5,
   "metadata": {},
   "outputs": [
    {
     "name": "stdout",
     "output_type": "stream",
     "text": [
      "inside fun2\n",
      "inside fun1\n"
     ]
    }
   ],
   "source": [
    "def fun1():\n",
    "    def fun2():\n",
    "        print(\"inside fun2\")\n",
    "    fun2()\n",
    "    print(\"inside fun1\")\n",
    "fun1()"
   ]
  },
  {
   "cell_type": "code",
   "execution_count": 6,
   "metadata": {},
   "outputs": [
    {
     "name": "stdout",
     "output_type": "stream",
     "text": [
      "in g functuion x is 4\n",
      "abc\n",
      "4\n",
      "3\n"
     ]
    }
   ],
   "source": [
    "def g(x):\n",
    "    def h():\n",
    "        x='abc'\n",
    "        return x\n",
    "    x=x+1\n",
    "    print(\"in g functuion x is\",x)\n",
    "    print(h())\n",
    "    return x\n",
    "x=3\n",
    "z=g(x)\n",
    "print(z)\n",
    "print(x)"
   ]
  },
  {
   "cell_type": "code",
   "execution_count": 7,
   "metadata": {},
   "outputs": [
    {
     "data": {
      "text/plain": [
       "'C:\\\\Users\\\\LJENG'"
      ]
     },
     "execution_count": 7,
     "metadata": {},
     "output_type": "execute_result"
    }
   ],
   "source": [
    "pwd"
   ]
  },
  {
   "cell_type": "markdown",
   "metadata": {},
   "source": [
    "write a code find is smallest number satisfying following condition.\n",
    "condition:- from the given no if one remove the last digit and put int he front of the no of form the is exactly 1.5 times\n",
    "the original no.\n",
    "no=285714\n",
    "o/p=428571(285714*1.5)"
   ]
  },
  {
   "cell_type": "code",
   "execution_count": 15,
   "metadata": {},
   "outputs": [
    {
     "name": "stdout",
     "output_type": "stream",
     "text": [
      "428571\n",
      "Number:- 12345\n"
     ]
    },
    {
     "data": {
      "text/plain": [
       "51234"
      ]
     },
     "execution_count": 15,
     "metadata": {},
     "output_type": "execute_result"
    }
   ],
   "source": [
    "def swapdigits(number):\n",
    "    #find number of digit\n",
    "    count=0\n",
    "    temp=number\n",
    "    while temp>0:\n",
    "        temp//=10\n",
    "        count+=1\n",
    "        \n",
    "    #handle one digit\n",
    "    if count<=1:\n",
    "        return number\n",
    "  \n",
    "    #extract first & last digit\n",
    "   # firstdigit=number//(10**(count-1))\n",
    "    lastdigit=number%10\n",
    "    \n",
    "    #remove first and last digit\n",
    "    numberwithoutfirstlast=number//10\n",
    "    \n",
    "    #swapped number\n",
    "    swappednumber=lastdigit*(10**(count-1))+numberwithoutfirstlast\n",
    "    return swappednumber\n",
    "count=1\n",
    "while True:\n",
    "    num=swapdigits(count)\n",
    "    if num/count==1.5:\n",
    "        print(num)\n",
    "        break\n",
    "        \n",
    "    count+=1\n",
    "        \n",
    "        \n",
    "s=int(input(\"Number:- \"))\n",
    "swapdigits(s)"
   ]
  },
  {
   "cell_type": "markdown",
   "metadata": {},
   "source": [
    "write a code to find the given no kaprekar no \n"
   ]
  },
  {
   "cell_type": "code",
   "execution_count": 5,
   "metadata": {},
   "outputs": [
    {
     "name": "stdout",
     "output_type": "stream",
     "text": [
      "Number:- 45\n",
      "2\n",
      "2025\n"
     ]
    }
   ],
   "source": [
    "def fun(x):\n",
    "    temp=x\n",
    "    count=0\n",
    "    while temp>0:\n",
    "        temp//=10\n",
    "        count+=1\n",
    "    print(count)\n",
    "    \n",
    "    square=x*x\n",
    "    print(square)\n",
    "    \n",
    "    num1=temp%(10**)\n",
    "    \n",
    "    \n",
    "s=int(input(\"Number:- \"))\n",
    "fun(s)"
   ]
  },
  {
   "cell_type": "markdown",
   "metadata": {},
   "source": [
    "write a code that proms the user to enter the nos and stops only when the user enters quit afyter this print sum,average\n",
    ",minimum and maximum no from the given i/p."
   ]
  },
  {
   "cell_type": "code",
   "execution_count": 11,
   "metadata": {},
   "outputs": [
    {
     "name": "stdout",
     "output_type": "stream",
     "text": [
      "Enter number:- 3\n",
      "Enter number:- 4\n",
      "Enter number:- 5\n",
      "Enter number:- quit\n",
      "12 4.0 3 5\n"
     ]
    }
   ],
   "source": [
    "sum=0\n",
    "count=0\n",
    "min=None\n",
    "max=None\n",
    "\n",
    "while True:\n",
    "    number=input(\"Enter number:- \")\n",
    "    \n",
    "    if number==\"quit\":\n",
    "        break\n",
    "        \n",
    "    number=int(number)\n",
    "    \n",
    "    sum+=number\n",
    "    count+=1\n",
    "    \n",
    "    if min==None or number<min:\n",
    "        min=number\n",
    "    if max==None or number>max:\n",
    "        max=number\n",
    "avg=sum/count\n",
    "print(sum,avg,min,max)\n",
    "\n",
    "        "
   ]
  },
  {
   "cell_type": "markdown",
   "metadata": {},
   "source": [
    "if any score is higher than 100after all scores have be entered it should be print this  a message a value more bthan 100 has been 100."
   ]
  },
  {
   "cell_type": "markdown",
   "metadata": {},
   "source": [
    "drop two lowest score and find the average of the rest."
   ]
  },
  {
   "cell_type": "code",
   "execution_count": null,
   "metadata": {},
   "outputs": [],
   "source": []
  }
 ],
 "metadata": {
  "kernelspec": {
   "display_name": "Python 3",
   "language": "python",
   "name": "python3"
  },
  "language_info": {
   "codemirror_mode": {
    "name": "ipython",
    "version": 3
   },
   "file_extension": ".py",
   "mimetype": "text/x-python",
   "name": "python",
   "nbconvert_exporter": "python",
   "pygments_lexer": "ipython3",
   "version": "3.8.5"
  }
 },
 "nbformat": 4,
 "nbformat_minor": 4
}
