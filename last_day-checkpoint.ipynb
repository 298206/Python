{
 "cells": [
  {
   "cell_type": "markdown",
   "metadata": {},
   "source": [
    "for i in range(4):\n",
    "    for j in range(i+1):\n",
    "        print('*',end=\" \")\n",
    "    print()\n",
    "\n",
    "k=65\n",
    "for i in range(4):\n",
    "    for j in range(i+1):\n",
    "        print(chr(k),end=\" \")\n",
    "        k+=1\n",
    "    print()"
   ]
  },
  {
   "cell_type": "code",
   "execution_count": 13,
   "metadata": {},
   "outputs": [
    {
     "name": "stdout",
     "output_type": "stream",
     "text": [
      "65 \n",
      "65 65 \n",
      "65 65 65 \n",
      "65 65 65 65 \n"
     ]
    }
   ],
   "source": [
    "k='A'\n",
    "for i in range(4):\n",
    "    for j in range(i+1):\n",
    "        print(ord('A'),end=\" \")\n",
    "       # k+=1\n",
    "    print()"
   ]
  },
  {
   "cell_type": "code",
   "execution_count": 12,
   "metadata": {},
   "outputs": [
    {
     "name": "stdout",
     "output_type": "stream",
     "text": [
      "* \n",
      "# # \n",
      "* * * \n",
      "# # # # \n"
     ]
    }
   ],
   "source": [
    "for i in range(4):\n",
    "    for j in range(i+1):\n",
    "        if i%2==0:\n",
    "            print('*',end=\" \")\n",
    "        else:\n",
    "            print('#',end=\" \")\n",
    "    print()"
   ]
  },
  {
   "cell_type": "code",
   "execution_count": 25,
   "metadata": {
    "scrolled": true
   },
   "outputs": [
    {
     "name": "stdout",
     "output_type": "stream",
     "text": [
      "     \n",
      "    1 \n",
      "   A B \n",
      "  1 2 3 \n",
      " A B C D \n",
      "1 2 3 4 5 \n"
     ]
    }
   ],
   "source": [
    "for i in range(6):\n",
    "    r=1\n",
    "    m=65\n",
    "\n",
    "    for k in range(1,n-i+1):\n",
    "        print(end=\" \")\n",
    "    for j in range(1,i+1):\n",
    "        if %2==1:\n",
    "            print(r,end=\" \")\n",
    "            r+=1\n",
    "        else:\n",
    "            print(chr(m),end=\" \")\n",
    "            m+=1\n",
    "    print()"
   ]
  },
  {
   "cell_type": "code",
   "execution_count": 18,
   "metadata": {},
   "outputs": [
    {
     "name": "stdout",
     "output_type": "stream",
     "text": [
      "Enter the raws: 5\n",
      "    * \n",
      "   * * \n",
      "  * * * \n",
      " * * * * \n",
      "* * * * * \n"
     ]
    }
   ],
   "source": [
    "n=int(input(\"Enter the raws: \"))\n",
    "for i in range(1,n+1):\n",
    "    for k in range(1,n-i+1):\n",
    "        print(end=\" \")\n",
    "    for j in range(1,i+1):\n",
    "        print('*',end=\" \")\n",
    "    print()"
   ]
  },
  {
   "cell_type": "code",
   "execution_count": 47,
   "metadata": {},
   "outputs": [
    {
     "name": "stdout",
     "output_type": "stream",
     "text": [
      "  1  2  3  4  5  6  7  8  9  10 \n",
      "   2  3  4  5  6  7  8  9  10 \n",
      "    3  4  5  6  7  8  9  10 \n",
      "     4  5  6  7  8  9  10 \n",
      "      5  6  7  8  9  10 \n",
      "       6  7  8  9  10 \n",
      "        7  8  9  10 \n",
      "         8  9  10 \n",
      "          9  10 \n",
      "           10 \n",
      "         10 9 \n",
      "        10 9 8 \n",
      "       10 9 8 7 \n",
      "      10 9 8 7 6 \n",
      "     10 9 8 7 6 5 \n",
      "    10 9 8 7 6 5 4 \n",
      "   10 9 8 7 6 5 4 3 \n",
      "  10 9 8 7 6 5 4 3 2 \n",
      " 10 9 8 7 6 5 4 3 2 1 \n"
     ]
    }
   ],
   "source": [
    "\n",
    "for i in range(1,11):\n",
    "    for k in range(i):\n",
    "        print(\"\",end=\" \")\n",
    "    for j in range(i,11):\n",
    "        print(\"\",j,end=\" \")\n",
    "    print()\n",
    "for i in range(2,11):\n",
    "    for k in range(11,i,-1):\n",
    "        print(\"\",end=\" \")\n",
    "    for j in range(10,10-i,-1):\n",
    "        print(j,end=\" \")\n",
    "    print()"
   ]
  },
  {
   "cell_type": "code",
   "execution_count": 45,
   "metadata": {},
   "outputs": [
    {
     "name": "stdout",
     "output_type": "stream",
     "text": [
      "          10  9 \n",
      "         10  9  8 \n",
      "        10  9  8  7 \n",
      "       10  9  8  7  6 \n",
      "      10  9  8  7  6  5 \n",
      "     10  9  8  7  6  5  4 \n",
      "    10  9  8  7  6  5  4  3 \n",
      "   10  9  8  7  6  5  4  3  2 \n",
      "  10  9  8  7  6  5  4  3  2  1 \n"
     ]
    }
   ],
   "source": [
    "for i in range(2,11):\n",
    "    for k in range(11,i,-1):\n",
    "        print(\"\",end=\" \")\n",
    "    for j in range(10,10-i,-1):\n",
    "        print(\"\",j,end=\" \")\n",
    "    print()"
   ]
  },
  {
   "cell_type": "code",
   "execution_count": 49,
   "metadata": {},
   "outputs": [
    {
     "name": "stdout",
     "output_type": "stream",
     "text": [
      "* \n",
      "* * \n",
      "* * * \n",
      "* * * * \n",
      "* * * * * \n"
     ]
    }
   ],
   "source": [
    "for i in range(1,6):\n",
    "    for j in range(1,i+1):\n",
    "        print('*',end=\" \")\n",
    "    print()"
   ]
  },
  {
   "cell_type": "code",
   "execution_count": 68,
   "metadata": {},
   "outputs": [
    {
     "ename": "SyntaxError",
     "evalue": "invalid syntax (<ipython-input-68-188553a0b7c9>, line 7)",
     "output_type": "error",
     "traceback": [
      "\u001b[1;36m  File \u001b[1;32m\"<ipython-input-68-188553a0b7c9>\"\u001b[1;36m, line \u001b[1;32m7\u001b[0m\n\u001b[1;33m    (i==4 and (j==0 or j==8)):\u001b[0m\n\u001b[1;37m                             ^\u001b[0m\n\u001b[1;31mSyntaxError\u001b[0m\u001b[1;31m:\u001b[0m invalid syntax\n"
     ]
    }
   ],
   "source": [
    "\n",
    "for i in range(5):\n",
    "       for j in range(9):\n",
    "            if (i==0 and j==4) or\\\n",
    "                (i==1 and (j==3 or j==5) or\\\n",
    "                 (i==2 and (2<=j<=6)) or\\\n",
    "                 (i==3 and (j==1 or j==7)) or\\\n",
    "                 (i==4 and (j==0 or j==8)):\n",
    "                print('*',end=\" \")\n",
    "            else:\n",
    "                print(\"\",end=\" \")\n",
    "                \n",
    "        print()"
   ]
  },
  {
   "cell_type": "code",
   "execution_count": 74,
   "metadata": {},
   "outputs": [
    {
     "name": "stdout",
     "output_type": "stream",
     "text": [
      "$       \n",
      " $ * * * * * \n",
      "  $     \n",
      "   $    \n",
      "    $   \n",
      "     $  \n"
     ]
    }
   ],
   "source": [
    "for i in range(6):\n",
    "    for j in range(6):\n",
    "        if i==j:\n",
    "            print('$',end=\" \")\n",
    "        if (i==1 and (1<=j<=5)):\n",
    "            print('*',end=\" \")\n",
    "        else:\n",
    "            print(end=\" \")\n",
    "    print()\n",
    "            \n",
    "        "
   ]
  },
  {
   "cell_type": "markdown",
   "metadata": {},
   "source": [
    ">write a code to strong no :--\n",
    "is the no each to the factorial power and its sum=the no itself.\n",
    "\n"
   ]
  },
  {
   "cell_type": "code",
   "execution_count": 84,
   "metadata": {},
   "outputs": [
    {
     "name": "stdout",
     "output_type": "stream",
     "text": [
      "1\n",
      "2\n",
      "145\n",
      "40585\n"
     ]
    }
   ],
   "source": [
    "for i in range(1,100000):\n",
    "    num=i\n",
    "    sum=0\n",
    "    while num>0:\n",
    "        r=num%10\n",
    "        fact=1\n",
    "        for j in range(1,r+1):\n",
    "            fact*=j\n",
    "        sum=sum+fact\n",
    "        num//=10\n",
    "    if sum==i:\n",
    "        print(i)"
   ]
  },
  {
   "cell_type": "markdown",
   "metadata": {},
   "source": [
    ">Code:-tribonaci no"
   ]
  },
  {
   "cell_type": "code",
   "execution_count": 90,
   "metadata": {},
   "outputs": [
    {
     "name": "stdout",
     "output_type": "stream",
     "text": [
      "Enter no.:-10\n",
      "0 0 1 1 2 4 7 13 24 44 "
     ]
    }
   ],
   "source": [
    "def tribo(n):\n",
    "    p3=0\n",
    "    p2=0\n",
    "    p1=1\n",
    "    print(p3,p2,p1,end=\" \")\n",
    "    for i in range(4,n+1):\n",
    "        current=p1+p2+p3\n",
    "        print(current,end=\" \")\n",
    "        p3=p2\n",
    "        p2=p1\n",
    "        p1=current\n",
    "s=int(input(\"Enter no.:-\"))\n",
    "tribo(s)"
   ]
  },
  {
   "cell_type": "code",
   "execution_count": null,
   "metadata": {},
   "outputs": [],
   "source": []
  }
 ],
 "metadata": {
  "kernelspec": {
   "display_name": "Python 3",
   "language": "python",
   "name": "python3"
  },
  "language_info": {
   "codemirror_mode": {
    "name": "ipython",
    "version": 3
   },
   "file_extension": ".py",
   "mimetype": "text/x-python",
   "name": "python",
   "nbconvert_exporter": "python",
   "pygments_lexer": "ipython3",
   "version": "3.8.5"
  }
 },
 "nbformat": 4,
 "nbformat_minor": 4
}
