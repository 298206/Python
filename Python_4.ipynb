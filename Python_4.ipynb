{
 "cells": [
  {
   "cell_type": "code",
   "execution_count": 1,
   "metadata": {},
   "outputs": [
    {
     "name": "stdout",
     "output_type": "stream",
     "text": [
      "<generator object <genexpr> at 0x00000192777F7970>\n"
     ]
    }
   ],
   "source": [
    "# Comprehending tuple from Genrator:--\n",
    "\n",
    "t=(1,2,3,4,5)\n",
    "x=(i**2 for i in t)\n",
    "print(x)\n"
   ]
  },
  {
   "cell_type": "code",
   "execution_count": 2,
   "metadata": {},
   "outputs": [
    {
     "name": "stdout",
     "output_type": "stream",
     "text": [
      "(1, 4, 9, 16, 25)\n"
     ]
    }
   ],
   "source": [
    "t=(1,2,3,4,5)\n",
    "x=tuple(i**2 for i in t)\n",
    "print(x)\n"
   ]
  },
  {
   "cell_type": "code",
   "execution_count": 4,
   "metadata": {},
   "outputs": [
    {
     "name": "stdout",
     "output_type": "stream",
     "text": [
      "(5, 7, 9)\n"
     ]
    }
   ],
   "source": [
    "# Creating tuple from zipping two tuples and summing elements:--\n",
    "\n",
    "t1=(1,2,3,5)\n",
    "t2=(4,5,6)\n",
    "new=tuple(x+y for x,y in zip(t1,t2))\n",
    "print(new)"
   ]
  },
  {
   "cell_type": "code",
   "execution_count": 15,
   "metadata": {},
   "outputs": [
    {
     "name": "stdout",
     "output_type": "stream",
     "text": [
      "['1', '2', '1', '1', '3', '2', '5']\n"
     ]
    },
    {
     "data": {
      "text/plain": [
       "'1+1+1+2+2+3+5'"
      ]
     },
     "execution_count": 15,
     "metadata": {},
     "output_type": "execute_result"
    }
   ],
   "source": [
    "#write a code for the following task:-\n",
    "# i/p= 1+2+1+1+1+3+3+4+5+2\n",
    "# o/p= 1+1+1+1+2+2+3+3+4\n",
    "\n",
    "string=\"1+2+1+1+3+2+5\"\n",
    "m=string.split(\"+\")\n",
    "print(m)\n",
    "\"+\".join(sorted(m))\n",
    "    \n",
    "    "
   ]
  },
  {
   "cell_type": "code",
   "execution_count": 24,
   "metadata": {},
   "outputs": [
    {
     "name": "stdout",
     "output_type": "stream",
     "text": [
      "Enter: Name@123\n",
      "Valid\n"
     ]
    }
   ],
   "source": [
    "# WAP to validate a password:--\n",
    "# it should contain atleast 8 elements including atleast 1 letter from a to z.\n",
    "# It should contain atleast 1 uppercase.\n",
    "# It should contain atleast 1 digit.\n",
    "# It should contain atleast 1 special character from @,_ and \\$.\n",
    "# It above conditions are not satisfied it should return not vaild.\n",
    "# i/p= name@1234\n",
    "# o/p= vaild\n",
    "\n",
    "def function(password):\n",
    "    a=False\n",
    "    a1=False\n",
    "    a2=False\n",
    "    a3=False\n",
    "    \n",
    "    if len(password)>=8:\n",
    "        for i in password:\n",
    "            if i.isalpha():\n",
    "                a=True\n",
    "            if i.isupper():\n",
    "                a1=True\n",
    "            if i.isdigit():\n",
    "                a2=True\n",
    "            if i in \"@_$\":\n",
    "                a3=True\n",
    "                \n",
    "        if (a and a1 and a2 and a3)==True:\n",
    "                print(\"Valid\")\n",
    "        else:\n",
    "                print(\"Not Valid.\")\n",
    "    else:\n",
    "        print(\"invaild length\")\n",
    "password=input(\"Enter: \")\n",
    "function(password)"
   ]
  },
  {
   "cell_type": "markdown",
   "metadata": {},
   "source": [
    "# WAP to encrypt given string:--\n",
    "    i/p = LJIET ENG\n",
    "    enter key=3\n",
    "    o/p = OMLHW HQJ"
   ]
  },
  {
   "cell_type": "code",
   "execution_count": 35,
   "metadata": {},
   "outputs": [
    {
     "name": "stdout",
     "output_type": "stream",
     "text": [
      "Enter: abcd\n",
      "Enter: 3\n",
      "defg\n"
     ]
    }
   ],
   "source": [
    "string=input(\"Enter: \")\n",
    "key=int(input(\"Enter: \"))\n",
    "s=\"\"\n",
    "for i in string:\n",
    "    od=ord(i)\n",
    "    if i in 'XYZxyz':\n",
    "        od-=26\n",
    "    if i.isspace():\n",
    "            s+=\" \"\n",
    "            continue\n",
    "    s+=chr(od+key)\n",
    "    \n",
    "print(s)   \n"
   ]
  },
  {
   "cell_type": "markdown",
   "metadata": {},
   "source": [
    "# WAP to abbreviate the name:--\n",
    "   i/p = Industrial Business machine\n",
    "   o/p = IBM"
   ]
  },
  {
   "cell_type": "code",
   "execution_count": 41,
   "metadata": {},
   "outputs": [
    {
     "name": "stdout",
     "output_type": "stream",
     "text": [
      "Enter:-- gsetgdrg fghsdrg\n",
      "Gsetgdrg Fghsdrg\n",
      "GF\n"
     ]
    }
   ],
   "source": [
    "string=input(\"Enter:-- \")\n",
    "s1=string.title()\n",
    "print(s1)\n",
    "s=\"\"\n",
    "for i in s1:\n",
    "    if i.isupper():\n",
    "        s=s+i\n",
    "print(s)"
   ]
  },
  {
   "cell_type": "markdown",
   "metadata": {},
   "source": [
    "# WAP to check if the given two strings are balnced. the strings s1 and s2 are balanced if the elements of s1 are in s2(in any order)\n",
    "    i/p = s1=lk,s2= ljku\n",
    "    o/p = balanced"
   ]
  },
  {
   "cell_type": "code",
   "execution_count": 44,
   "metadata": {},
   "outputs": [
    {
     "name": "stdout",
     "output_type": "stream",
     "text": [
      "Enter s1:-- rt\n",
      "Enter s2:-- riyatank\n",
      "Balnced\n"
     ]
    }
   ],
   "source": [
    "s1=input(\"Enter s1:-- \")\n",
    "s2=input(\"Enter s2:-- \")\n",
    "a=False\n",
    "for i in s1:\n",
    "    if i in s2:\n",
    "        a=True\n",
    "    else:\n",
    "        a=False\n",
    "if a==True:\n",
    "    print(\"Balnced\")\n",
    "else:\n",
    "    print(\"Not\")"
   ]
  },
  {
   "cell_type": "markdown",
   "metadata": {},
   "source": [
    "# WAP for a given email address extract the username:-\n",
    "i/p = riya@gmail.com\n",
    "o/p = riya"
   ]
  },
  {
   "cell_type": "code",
   "execution_count": 46,
   "metadata": {},
   "outputs": [
    {
     "name": "stdout",
     "output_type": "stream",
     "text": [
      "Enter email: riya@gmailcom\n",
      "riya\n"
     ]
    }
   ],
   "source": [
    "el=input(\"Enter email: \")\n",
    "s1=el.split(\"@\")\n",
    "print(s1[0])"
   ]
  },
  {
   "cell_type": "markdown",
   "metadata": {},
   "source": [
    "# for a given string perform following task:--\n",
    "i/p = aaabccddssa\n",
    "o/p = a3bc2d2sa"
   ]
  },
  {
   "cell_type": "code",
   "execution_count": 50,
   "metadata": {},
   "outputs": [
    {
     "name": "stdout",
     "output_type": "stream",
     "text": [
      "Enter:-- aaabbccddda\n",
      "a3b2c2d3a\n"
     ]
    }
   ],
   "source": [
    "string=input(\"Enter:-- \")\n",
    "count=0\n",
    "x=string[0]\n",
    "s1=\"\"\n",
    "for i in string:\n",
    "    if i==x:\n",
    "        count+=1\n",
    "    else: \n",
    "        if count!=1:\n",
    "            s1+=x+str(count)\n",
    "        else:\n",
    "            s1+=x\n",
    "        x=i\n",
    "        count=1\n",
    "if count!=1:\n",
    "    s1+=x+str(count)\n",
    "else:\n",
    "    s1+=x\n",
    "print(s1)"
   ]
  },
  {
   "cell_type": "code",
   "execution_count": null,
   "metadata": {},
   "outputs": [],
   "source": []
  }
 ],
 "metadata": {
  "kernelspec": {
   "display_name": "Python 3",
   "language": "python",
   "name": "python3"
  },
  "language_info": {
   "codemirror_mode": {
    "name": "ipython",
    "version": 3
   },
   "file_extension": ".py",
   "mimetype": "text/x-python",
   "name": "python",
   "nbconvert_exporter": "python",
   "pygments_lexer": "ipython3",
   "version": "3.8.5"
  }
 },
 "nbformat": 4,
 "nbformat_minor": 4
}
